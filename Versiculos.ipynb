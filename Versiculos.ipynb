{
  "nbformat": 4,
  "nbformat_minor": 0,
  "metadata": {
    "colab": {
      "provenance": [],
      "authorship_tag": "ABX9TyO4M8XkMRr6hF2c+9/4shWd",
      "include_colab_link": true
    },
    "kernelspec": {
      "name": "python3",
      "display_name": "Python 3"
    },
    "language_info": {
      "name": "python"
    }
  },
  "cells": [
    {
      "cell_type": "markdown",
      "metadata": {
        "id": "view-in-github",
        "colab_type": "text"
      },
      "source": [
        "<a href=\"https://colab.research.google.com/github/zeferdash/Alura-Imersao-IA/blob/main/Versiculos.ipynb\" target=\"_parent\"><img src=\"https://colab.research.google.com/assets/colab-badge.svg\" alt=\"Open In Colab\"/></a>"
      ]
    },
    {
      "cell_type": "code",
      "execution_count": null,
      "metadata": {
        "id": "Emnj27inummj"
      },
      "outputs": [],
      "source": [
        "!pip install -q -U google-generativeai\n",
        "\n",
        "# Imports necessários\n",
        "import pathlib\n",
        "import textwrap\n",
        "import google.generativeai as genai\n",
        "from IPython.display import display\n",
        "from IPython.display import Markdown\n",
        "from google.colab import userdata\n",
        "from rich import print\n",
        "from rich.console import Console\n",
        "\n",
        "console = Console()\n",
        "\n",
        "def to_markdown(text):\n",
        "  text = text.replace('•', '  *')\n",
        "  return Markdown(textwrap.indent(text, '> ', predicate=lambda _: True))\n",
        "\n",
        "\n",
        "GOOGLE_API_KEY=userdata.get('GOOGLE_API_KEY')\n",
        "\n",
        "genai.configure(api_key=GOOGLE_API_KEY)\n",
        "\n",
        "generation_config = {\n",
        " \"candidate_count\": 1,\n",
        " \"temperature\": 0.5,\n",
        "}\n",
        "\n",
        "safety_settings = {\n",
        "    \"HARASSMENT\": \"BLOCK_NONE\",\n",
        "    \"HATE\": \"BLOCK_NONE\",\n",
        "    \"SEXUAL\": \"BLOCK_NONE\",\n",
        "    \"DANGEROUS\": \"BLOCK_NONE\",\n",
        "}\n",
        "\n",
        "model = genai.GenerativeModel(model_name=\"gemini-1.0-pro\",\n",
        "                              generation_config=generation_config,\n",
        "                              safety_settings=safety_settings)\n",
        "\n",
        "chat = model.start_chat(history=[])\n",
        "\n",
        "objetivo = \"Seu objetivo será após a pessoa dar como entrada uma frase que ela viu em alguma parte da biblia, voce responder em qual parte da biblia é encontrada aquela frase e explicar o que aquele versiculo significa, caso a pessoa tente conversar sobre outro assunto que não seja referente a biblia, diga educadamente que voce so pode conversar sobre assuntos referentes a mesma.\"\n",
        "\n",
        "print(\"Olá, seja bem vindo ao encontrador de versículos via frase!\")\n",
        "print(\"Digite abaixo qual a frase que voce deseja encontrar o versiculo referente e caso queira encerrar o programa basta digitar 'fim'\")\n",
        "frase = input()\n",
        "\n",
        "while frase != \"fim\":\n",
        "    response = chat.send_message(objetivo + frase + \"\\nResposta:\\n\")\n",
        "\n",
        "    console.rule(\"[bold blue]Versículo Encontrado[/bold blue]\")\n",
        "    print(f\"[italic]{response.text}[/italic]\")\n",
        "\n",
        "    frase = input(\"Digite aqui mais uma frase que deseja saber qual o versículo ou alguma dúvida referente ao versiculo: \")"
      ]
    }
  ]
}